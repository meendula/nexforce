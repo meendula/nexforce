{
  "cells": [
    {
      "cell_type": "code",
      "source": [
        "import csv\n",
        "import statistics\n",
        "def mean(Height,Weight):\n",
        "  print(\"Mean Height is\",statistics.mean(Height),\"Inches\")\n",
        "  print(\"Mean Weight is\",statistics.mean(Weight),\"Pounds\\n\")\n",
        "def mode(Height,Weight):\n",
        "  print(\"Mode Height is\",statistics.mode(Height),\"Inches\")\n",
        "  print(\"Mode Weight is\",statistics.mode(Weight),\"Pounds\\n\")\n",
        "def median(Height,Weight):\n",
        "  print(\"Median Height is\",statistics.median(Height),\"Inches\")\n",
        "  print(\"Median Weight is\",statistics.median(Weight),\"Pounds\\n\")\n",
        "Height=[];Weight=[]\n",
        "with open('/content/drive/MyDrive/nexforce ai ml/SOCR-HeightWeight.csv', mode ='r')as file1:\n",
        "  csvFile = csv.reader(file1)\n",
        "  i=0\n",
        "  for lines in csvFile:\n",
        "    if i==0:\n",
        "      i=1\n",
        "      continue\n",
        "    Height.append(float(lines[1]))\n",
        "    Weight.append(float(lines[2]))\n",
        "ch=\"m\"\n",
        "while ch not in \"Nn\":\n",
        "  ch=input(\"Mean\\nMedian\\nMode\\nEnter N or n to exit\\n\\tWhich one do you want to compute : \")\n",
        "  ch=ch.strip(\" \");ch=ch.lower()\n",
        "  if ch[0]==\"n\":\n",
        "    continue\n",
        "  elif ch==\"mode\":\n",
        "    mode(Height,Weight)\n",
        "  elif ch==\"median\":\n",
        "    median(Height,Weight)\n",
        "  elif ch==\"mean\":\n",
        "    mean(Height,Weight)\n",
        "  else:\n",
        "    print(\"Please enter a valid function to perform!\\n\")"
      ],
      "metadata": {
        "colab": {
          "base_uri": "https://localhost:8080/"
        },
        "id": "ftljwKwViMBF",
        "outputId": "6c95eb67-b1a7-4a82-e5dd-c2c8c7aa5f6b"
      },
      "execution_count": 4,
      "outputs": [
        {
          "name": "stdout",
          "output_type": "stream",
          "text": [
            "Mean\n",
            "Median\n",
            "Mode\n",
            "Enter N or n to exit\n",
            "\tWhich one do you want to compute : mode\n",
            "Mode Height is 70.04724 Inches\n",
            "Mode Weight is 124.7975 Pounds\n",
            "\n",
            "Mean\n",
            "Median\n",
            "Mode\n",
            "Enter N or n to exit\n",
            "\tWhich one do you want to compute : n\n"
          ]
        }
      ]
    },
    {
      "cell_type": "code",
      "source": [
        "from google.colab import drive\n",
        "drive.mount('/content/drive')"
      ],
      "metadata": {
        "colab": {
          "base_uri": "https://localhost:8080/"
        },
        "id": "2-NdXH-OiZ_L",
        "outputId": "bab50fe4-f688-4cfb-b7a8-12c221bdb7e1"
      },
      "execution_count": 1,
      "outputs": [
        {
          "output_type": "stream",
          "name": "stdout",
          "text": [
            "Drive already mounted at /content/drive; to attempt to forcibly remount, call drive.mount(\"/content/drive\", force_remount=True).\n"
          ]
        }
      ]
    }
  ],
  "metadata": {
    "colab": {
      "provenance": []
    },
    "kernelspec": {
      "display_name": "Python 3",
      "name": "python3"
    },
    "language_info": {
      "name": "python"
    }
  },
  "nbformat": 4,
  "nbformat_minor": 0
}